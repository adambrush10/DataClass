{
 "cells": [
  {
   "cell_type": "code",
   "execution_count": 43,
   "metadata": {},
   "outputs": [],
   "source": [
    "import pandas as pd\n",
    "from bs4 import BeautifulSoup as bs\n",
    "from splinter import Browser\n",
    "import requests\n",
    "\n"
   ]
  },
  {
   "cell_type": "code",
   "execution_count": 44,
   "metadata": {},
   "outputs": [],
   "source": [
    "executable_path = {\"executable_path\": \"/usr/local/bin/chromedriver\"}\n",
    "browser = Browser(\"chrome\", **executable_path, headless=True)"
   ]
  },
  {
   "cell_type": "code",
   "execution_count": 3,
   "metadata": {},
   "outputs": [],
   "source": [
    "url = \"https://mars.nasa.gov/news/\"\n",
    "browser.visit(url)"
   ]
  },
  {
   "cell_type": "code",
   "execution_count": 4,
   "metadata": {},
   "outputs": [],
   "source": [
    "html = browser.html\n",
    "soup = bs(html, \"html.parser\")"
   ]
  },
  {
   "cell_type": "code",
   "execution_count": 5,
   "metadata": {},
   "outputs": [
    {
     "name": "stdout",
     "output_type": "stream",
     "text": [
      "1163089\n"
     ]
    }
   ],
   "source": [
    "print(len(html))"
   ]
  },
  {
   "cell_type": "markdown",
   "metadata": {},
   "source": [
    "# mars headlines\n"
   ]
  },
  {
   "cell_type": "code",
   "execution_count": 6,
   "metadata": {},
   "outputs": [
    {
     "name": "stdout",
     "output_type": "stream",
     "text": [
      "News  – NASA’s Mars Exploration Program \n"
     ]
    }
   ],
   "source": [
    "title = soup.title.text\n",
    "print(title)"
   ]
  },
  {
   "cell_type": "code",
   "execution_count": null,
   "metadata": {},
   "outputs": [],
   "source": []
  },
  {
   "cell_type": "code",
   "execution_count": 7,
   "metadata": {},
   "outputs": [],
   "source": [
    "# Print all ten headlines\n",
    "names = soup.find_all('a')\n",
    "# A blank list to hold the headlines\n",
    "headlines = []\n",
    "\n",
    "for a in names:\n",
    "    # If td element has an anchor...\n",
    "    if (a.a):\n",
    "        # And the anchor has non-blank text...\n",
    "        if (a.a.text):\n",
    "            # Append the td to the list\n",
    "            headlines.append(names)"
   ]
  },
  {
   "cell_type": "code",
   "execution_count": 8,
   "metadata": {},
   "outputs": [
    {
     "name": "stdout",
     "output_type": "stream",
     "text": [
      "[[<a class=\"nasa_logo\" href=\"http://www.nasa.gov\" target=\"_blank\" title=\"visit nasa.gov\">NASA</a>, <a class=\"top_logo\" href=\"https://science.nasa.gov/\" target=\"_blank\" title=\"Explore NASA Science\">NASA Science</a>, <a class=\"sub_logo\" href=\"/mars-exploration/#\" title=\"Mars\">Mars Exploration Program</a>, <a class=\"visuallyhidden focusable\" href=\"#page\">Skip Navigation</a>, <a class=\"menu_button\" href=\"javascript:void(0);\" id=\"menu_button\">\n",
      "<span class=\"menu_icon\">\n",
      "menu\n",
      "</span>\n",
      "</a>, <a class=\"modal_close\" id=\"modal_close\">\n",
      "<span class=\"modal_close_icon\"></span>\n",
      "</a>, <a class=\"main_nav_item\" href=\"/#red_planet\" target=\"_self\">The Red Planet</a>, <a href=\"/#red_planet/0\" target=\"_self\">Dashboard</a>, <a href=\"/#red_planet/1\" target=\"_self\">Science Goals</a>, <a href=\"/#red_planet/2\" target=\"_self\">The Planet</a>, <a href=\"/#red_planet/3\" target=\"_self\">Atmosphere</a>, <a href=\"/#red_planet/4\" target=\"_self\">Astrobiology</a>, <a href=\"/#red_planet/5\" target=\"_self\">Past, Present, Future, Timeline</a>, <a class=\"main_nav_item\" href=\"/#mars_exploration_program\" target=\"_self\">The Program</a>, <a href=\"/#mars_exploration_program/0\" target=\"_self\">Mission Statement</a>, <a href=\"/#mars_exploration_program/1\" target=\"_self\">About the Program</a>, <a href=\"/#mars_exploration_program/2\" target=\"_self\">Organization</a>, <a href=\"/#mars_exploration_program/3\" target=\"_self\">Why Mars?</a>, <a href=\"/#mars_exploration_program/4\" target=\"_self\">Research Programs</a>, <a href=\"/#mars_exploration_program/5\" target=\"_self\">Planetary Resources</a>, <a href=\"/#mars_exploration_program/6\" target=\"_self\">Technologies</a>, <a class=\"main_nav_item\" href=\"/#news_and_events\" target=\"_self\">News &amp; Events</a>, <a href=\"/news\" target=\"_self\">News</a>, <a href=\"/events\" target=\"_self\">Events</a>, <a class=\"main_nav_item\" href=\"/#multimedia\" target=\"_self\">Multimedia</a>, <a href=\"/multimedia/images/\" target=\"_self\">Images</a>, <a href=\"/multimedia/videos/\" target=\"_self\">Videos</a>, <a class=\"main_nav_item\" href=\"/#missions\" target=\"_self\">Missions</a>, <a href=\"/mars-exploration/missions/?category=167\" target=\"_self\">Past</a>, <a href=\"/mars-exploration/missions/?category=170\" target=\"_self\">Present</a>, <a href=\"/mars-exploration/missions/?category=171\" target=\"_self\">Future</a>, <a href=\"/mars-exploration/partners\" target=\"_self\">International Partners</a>, <a class=\"main_nav_item\" href=\"/#more\" target=\"_self\">More</a>, <a class=\"main_nav_item\" href=\"/legacy\" target=\"_self\">Legacy Site</a>, <a href=\"/news/8326/nasa-invests-in-visionary-technology/\">\n",
      "<div class=\"rollover_description\">\n",
      "<div class=\"rollover_description_inner\">\n",
      "NASA is investing in technology concepts, including several from JPL, that may one day be used for future space exploration missions.\n",
      "</div>\n",
      "<div class=\"overlay_arrow\">\n",
      "<img alt=\"More\" src=\"/assets/overlay-arrow.png\"/>\n",
      "</div>\n",
      "</div>\n",
      "<img alt=\"NASA Invests in Visionary Technology \" class=\"img-lazy\" data-lazy=\"/system/news_items/list_view_images/8326_niac320.jpg\" src=\"/assets/loading_320x240.png\"/>\n",
      "</a>, <a href=\"/news/8326/nasa-invests-in-visionary-technology/\">\n",
      "NASA Invests in Visionary Technology \n",
      "</a>, <a href=\"/news/8325/nasa-is-ready-to-study-the-heart-of-mars/\">\n",
      "<div class=\"rollover_description\">\n",
      "<div class=\"rollover_description_inner\">\n",
      "NASA is about to go on a journey to study the center of Mars.\n",
      "</div>\n",
      "<div class=\"overlay_arrow\">\n",
      "<img alt=\"More\" src=\"/assets/overlay-arrow.png\"/>\n",
      "</div>\n",
      "</div>\n",
      "<img alt=\"NASA is Ready to Study the Heart of Mars\" class=\"img-lazy\" data-lazy=\"/system/news_items/list_view_images/8325_insight20180329b_320.jpg\" src=\"/assets/loading_320x240.png\"/>\n",
      "</a>, <a href=\"/news/8325/nasa-is-ready-to-study-the-heart-of-mars/\">\n",
      "NASA is Ready to Study the Heart of Mars\n",
      "</a>, <a href=\"/news/8402/nasas-insight-places-first-instrument-on-mars/\">\n",
      "<div class=\"rollover_description\">\n",
      "<div class=\"rollover_description_inner\">\n",
      "In deploying its first instrument onto the surface of Mars, the lander completes a major mission milestone.\n",
      "</div>\n",
      "<div class=\"overlay_arrow\">\n",
      "<img alt=\"More\" src=\"/assets/overlay-arrow.png\"/>\n",
      "</div>\n",
      "</div>\n",
      "<img alt=\"NASA's InSight Places First Instrument on Mars\" class=\"img-lazy\" src=\"/system/news_items/list_view_images/8402_PIA22977_SEIS_deploy_IDC_calibrated-th.gif?1550031680885\" style=\"opacity: 1;\"/>\n",
      "</a>, <a href=\"/news/8402/nasas-insight-places-first-instrument-on-mars/\">\n",
      "NASA's InSight Places First Instrument on Mars\n",
      "</a>, <a href=\"/news/8387/nasa-announces-landing-site-for-mars-2020-rover/\">\n",
      "<div class=\"rollover_description\">\n",
      "<div class=\"rollover_description_inner\">\n",
      "After a five-year search, NASA has chosen Jezero Crater as the landing site for its upcoming Mars 2020 rover mission.\n",
      "</div>\n",
      "<div class=\"overlay_arrow\">\n",
      "<img alt=\"More\" src=\"/assets/overlay-arrow.png\"/>\n",
      "</div>\n",
      "</div>\n",
      "<img alt=\"NASA Announces Landing Site for Mars 2020 Rover\" class=\"img-lazy\" src=\"/system/news_items/list_view_images/8387_JezeroCrater-320x240.jpg?1550031680886\" style=\"opacity: 1;\"/>\n",
      "</a>, <a href=\"/news/8387/nasa-announces-landing-site-for-mars-2020-rover/\">\n",
      "NASA Announces Landing Site for Mars 2020 Rover\n",
      "</a>, <a href=\"/news/8348/opportunity-hunkers-down-during-dust-storm/\">\n",
      "<div class=\"rollover_description\">\n",
      "<div class=\"rollover_description_inner\">\n",
      "It's the beginning of the end for the planet-encircling dust storm on Mars. But it could still be weeks, or even months, before skies are clear enough for NASA's Opportunity rover to recharge its batteries and phone home. \n",
      "</div>\n",
      "<div class=\"overlay_arrow\">\n",
      "<img alt=\"More\" src=\"/assets/overlay-arrow.png\"/>\n",
      "</div>\n",
      "</div>\n",
      "<img alt=\"Opportunity Hunkers Down During Dust Storm\" class=\"img-lazy\" src=\"/system/news_items/list_view_images/8348_PIA22521-320.jpg?1550031680886\" style=\"opacity: 1;\"/>\n",
      "</a>, <a href=\"/news/8348/opportunity-hunkers-down-during-dust-storm/\">\n",
      "Opportunity Hunkers Down During Dust Storm\n",
      "</a>, <a href=\"/news/8347/nasa-finds-ancient-organic-material-mysterious-methane-on-mars/\">\n",
      "<div class=\"rollover_description\">\n",
      "<div class=\"rollover_description_inner\">\n",
      "NASA’s Curiosity rover has found evidence on Mars with implications for NASA’s search for life.\n",
      "</div>\n",
      "<div class=\"overlay_arrow\">\n",
      "<img alt=\"More\" src=\"/assets/overlay-arrow.png\"/>\n",
      "</div>\n",
      "</div>\n",
      "<img alt=\"NASA Finds Ancient Organic Material, Mysterious Methane on Mars\" class=\"img-lazy\" data-lazy=\"/system/news_items/list_view_images/8347_curiosity_methane-320.jpg\" src=\"/assets/loading_320x240.png\"/>\n",
      "</a>, <a href=\"/news/8347/nasa-finds-ancient-organic-material-mysterious-methane-on-mars/\">\n",
      "NASA Finds Ancient Organic Material, Mysterious Methane on Mars\n",
      "</a>, <a href=\"/news/8326/nasa-invests-in-visionary-technology/\">\n",
      "<div class=\"rollover_description\">\n",
      "<div class=\"rollover_description_inner\">\n",
      "NASA is investing in technology concepts, including several from JPL, that may one day be used for future space exploration missions.\n",
      "</div>\n",
      "<div class=\"overlay_arrow\">\n",
      "<img alt=\"More\" src=\"/assets/overlay-arrow.png\"/>\n",
      "</div>\n",
      "</div>\n",
      "<img alt=\"NASA Invests in Visionary Technology \" class=\"img-lazy\" data-lazy=\"/system/news_items/list_view_images/8326_niac320.jpg\" src=\"/assets/loading_320x240.png\"/>\n",
      "</a>, <a href=\"/news/8326/nasa-invests-in-visionary-technology/\">\n",
      "NASA Invests in Visionary Technology \n",
      "</a>, <a href=\"/news/8325/nasa-is-ready-to-study-the-heart-of-mars/\">\n",
      "<div class=\"rollover_description\">\n",
      "<div class=\"rollover_description_inner\">\n",
      "NASA is about to go on a journey to study the center of Mars.\n",
      "</div>\n",
      "<div class=\"overlay_arrow\">\n",
      "<img alt=\"More\" src=\"/assets/overlay-arrow.png\"/>\n",
      "</div>\n",
      "</div>\n",
      "<img alt=\"NASA is Ready to Study the Heart of Mars\" class=\"img-lazy\" data-lazy=\"/system/news_items/list_view_images/8325_insight20180329b_320.jpg\" src=\"/assets/loading_320x240.png\"/>\n",
      "</a>, <a href=\"/news/8325/nasa-is-ready-to-study-the-heart-of-mars/\">\n",
      "NASA is Ready to Study the Heart of Mars\n",
      "</a>, <a href=\"/news/8402/nasas-insight-places-first-instrument-on-mars/\">\n",
      "<div class=\"rollover_description\">\n",
      "<div class=\"rollover_description_inner\">\n",
      "In deploying its first instrument onto the surface of Mars, the lander completes a major mission milestone.\n",
      "</div>\n",
      "<div class=\"overlay_arrow\">\n",
      "<img alt=\"More\" src=\"/assets/overlay-arrow.png\"/>\n",
      "</div>\n",
      "</div>\n",
      "<img alt=\"NASA's InSight Places First Instrument on Mars\" class=\"img-lazy\" src=\"/system/news_items/list_view_images/8402_PIA22977_SEIS_deploy_IDC_calibrated-th.gif?1550031680885\" style=\"opacity: 0;\"/>\n",
      "</a>, <a href=\"/news/8402/nasas-insight-places-first-instrument-on-mars/\">\n",
      "NASA's InSight Places First Instrument on Mars\n",
      "</a>, <a href=\"/news/8387/nasa-announces-landing-site-for-mars-2020-rover/\">\n",
      "<div class=\"rollover_description\">\n",
      "<div class=\"rollover_description_inner\">\n",
      "After a five-year search, NASA has chosen Jezero Crater as the landing site for its upcoming Mars 2020 rover mission.\n",
      "</div>\n",
      "<div class=\"overlay_arrow\">\n",
      "<img alt=\"More\" src=\"/assets/overlay-arrow.png\"/>\n",
      "</div>\n",
      "</div>\n",
      "<img alt=\"NASA Announces Landing Site for Mars 2020 Rover\" class=\"img-lazy\" src=\"/system/news_items/list_view_images/8387_JezeroCrater-320x240.jpg?1550031680886\" style=\"opacity: 0;\"/>\n",
      "</a>, <a href=\"/news/8387/nasa-announces-landing-site-for-mars-2020-rover/\">\n",
      "NASA Announces Landing Site for Mars 2020 Rover\n",
      "</a>, <a addthis:userid=\"NASABeAMartian\" class=\"addthis_button_twitter_follow icon at300b\" href=\"//twitter.com/NASABeAMartian\" target=\"_blank\" title=\"Follow on Twitter\">\n",
      "<img alt=\"twitter\" src=\"/assets/twitter_icon@2x.png\"/>\n",
      "<span class=\"addthis_follow_label\">Twitter</span></a>, <a addthis:userid=\"NASABEAM\" class=\"addthis_button_facebook_follow icon at300b\" href=\"http://www.facebook.com/NASABEAM\" target=\"_blank\" title=\"Follow on Facebook\">\n",
      "<img alt=\"facebook\" src=\"/assets/facebook_icon@2x.png\"/>\n",
      "<span class=\"addthis_follow_label\">Facebook</span></a>, <a addthis:userid=\"nasa\" class=\"addthis_button_instagram_follow icon at300b\" href=\"http://instagram.com/nasa\" target=\"_blank\" title=\"Follow on Instagram\">\n",
      "<img alt=\"instagram\" src=\"/assets/instagram_icon@2x.png\"/>\n",
      "<span class=\"addthis_follow_label\">Instagram</span></a>, <a addthis:url=\"https://mars.nasa.gov/rss/api/?feed=news&amp;category=all&amp;feedtype=rss\" class=\"addthis_button_rss_follow icon at300b\" href=\"https://mars.nasa.gov/rss/api/?feed=news&amp;category=all&amp;feedtype=rss\" target=\"_blank\" title=\"Follow on RSS\">\n",
      "<img alt=\"rss\" src=\"/assets/rss_icon@2x.png\"/>\n",
      "<span class=\"addthis_follow_label\">RSS</span></a>, <a href=\"/#red_planet\">The Red Planet</a>, <a href=\"/#red_planet/0\" target=\"_self\">Dashboard</a>, <a href=\"/#red_planet/1\" target=\"_self\">Science Goals</a>, <a href=\"/#red_planet/2\" target=\"_self\">The Planet</a>, <a href=\"/#red_planet/3\" target=\"_self\">Atmosphere</a>, <a href=\"/#red_planet/4\" target=\"_self\">Astrobiology</a>, <a href=\"/#red_planet/5\" target=\"_self\">Past, Present, Future, Timeline</a>, <a href=\"/#mars_exploration_program\">The Program</a>, <a href=\"/#mars_exploration_program/0\" target=\"_self\">Mission Statement</a>, <a href=\"/#mars_exploration_program/1\" target=\"_self\">About the Program</a>, <a href=\"/#mars_exploration_program/2\" target=\"_self\">Organization</a>, <a href=\"/#mars_exploration_program/3\" target=\"_self\">Why Mars?</a>, <a href=\"/#mars_exploration_program/4\" target=\"_self\">Research Programs</a>, <a href=\"/#mars_exploration_program/5\" target=\"_self\">Planetary Resources</a>, <a href=\"/#mars_exploration_program/6\" target=\"_self\">Technologies</a>, <a href=\"/#news_and_events\">News &amp; Events</a>, <a href=\"/news\" target=\"_self\">News</a>, <a href=\"/events\" target=\"_self\">Events</a>, <a href=\"/#multimedia\">Multimedia</a>, <a href=\"/multimedia/images/\" target=\"_self\">Images</a>, <a href=\"/multimedia/videos/\" target=\"_self\">Videos</a>, <a href=\"/#missions\">Missions</a>, <a href=\"/mars-exploration/missions/?category=167\" target=\"_self\">Past</a>, <a href=\"/mars-exploration/missions/?category=170\" target=\"_self\">Present</a>, <a href=\"/mars-exploration/missions/?category=171\" target=\"_self\">Future</a>, <a href=\"/mars-exploration/partners\" target=\"_self\">International Partners</a>, <a href=\"/#more\">More</a>, <a href=\"/legacy\">Legacy Site</a>, <a class=\"\" href=\"/legacy\" target=\"_self\">Legacy Site</a>, <a href=\"http://science.nasa.gov/\" target=\"_blank\">NASA Science Mission Directorate</a>, <a href=\"https://www.jpl.nasa.gov/copyrights.php\" target=\"_blank\">Privacy</a>, <a href=\"http://www.jpl.nasa.gov/imagepolicy/\" target=\"_blank\">Image Policy</a>, <a href=\"https://mars.nasa.gov/feedback/\" target=\"_self\">Feedback</a>, <a href=\"http://mars.nasa.gov/legacy\" target=\"_blank\">Legacy Mars Site</a>, <a class=\"at-share-btn at-svc-facebook\" role=\"button\" tabindex=\"1\"><span class=\"at4-visually-hidden\">Share to Facebook</span><span class=\"at-icon-wrapper\" style=\"background-color: rgb(59, 89, 152);\"><svg aria-labelledby=\"at-svg-facebook-1\" class=\"at-icon at-icon-facebook\" role=\"img\" style=\"fill: rgb(255, 255, 255);\" version=\"1.1\" viewbox=\"0 0 32 32\" xmlns=\"http://www.w3.org/2000/svg\" xmlns:xlink=\"http://www.w3.org/1999/xlink\"><title id=\"at-svg-facebook-1\" xmlns=\"http://www.w3.org/1999/xhtml\">Facebook</title><g><path d=\"M22 5.16c-.406-.054-1.806-.16-3.43-.16-3.4 0-5.733 1.825-5.733 5.17v2.882H9v3.913h3.837V27h4.604V16.965h3.823l.587-3.913h-4.41v-2.5c0-1.123.347-1.903 2.198-1.903H22V5.16z\" fill-rule=\"evenodd\"></path></g></svg></span></a>, <a class=\"at-share-btn at-svc-twitter\" role=\"button\" tabindex=\"1\"><span class=\"at4-visually-hidden\">Share to Twitter</span><span class=\"at-icon-wrapper\" style=\"background-color: rgb(29, 161, 242);\"><svg aria-labelledby=\"at-svg-twitter-2\" class=\"at-icon at-icon-twitter\" role=\"img\" style=\"fill: rgb(255, 255, 255);\" version=\"1.1\" viewbox=\"0 0 32 32\" xmlns=\"http://www.w3.org/2000/svg\" xmlns:xlink=\"http://www.w3.org/1999/xlink\"><title id=\"at-svg-twitter-2\" xmlns=\"http://www.w3.org/1999/xhtml\">Twitter</title><g><path d=\"M27.996 10.116c-.81.36-1.68.602-2.592.71a4.526 4.526 0 0 0 1.984-2.496 9.037 9.037 0 0 1-2.866 1.095 4.513 4.513 0 0 0-7.69 4.116 12.81 12.81 0 0 1-9.3-4.715 4.49 4.49 0 0 0-.612 2.27 4.51 4.51 0 0 0 2.008 3.755 4.495 4.495 0 0 1-2.044-.564v.057a4.515 4.515 0 0 0 3.62 4.425 4.52 4.52 0 0 1-2.04.077 4.517 4.517 0 0 0 4.217 3.134 9.055 9.055 0 0 1-5.604 1.93A9.18 9.18 0 0 1 6 23.85a12.773 12.773 0 0 0 6.918 2.027c8.3 0 12.84-6.876 12.84-12.84 0-.195-.005-.39-.014-.583a9.172 9.172 0 0 0 2.252-2.336\" fill-rule=\"evenodd\"></path></g></svg></span></a>, <a class=\"at-share-btn at-svc-reddit\" role=\"button\" tabindex=\"1\"><span class=\"at4-visually-hidden\">Share to Reddit</span><span class=\"at-icon-wrapper\" style=\"background-color: rgb(255, 87, 0);\"><svg aria-labelledby=\"at-svg-reddit-3\" class=\"at-icon at-icon-reddit\" role=\"img\" style=\"fill: rgb(255, 255, 255);\" version=\"1.1\" viewbox=\"0 0 32 32\" xmlns=\"http://www.w3.org/2000/svg\" xmlns:xlink=\"http://www.w3.org/1999/xlink\"><title id=\"at-svg-reddit-3\" xmlns=\"http://www.w3.org/1999/xhtml\">Reddit</title><g><path d=\"M27 15.5a2.452 2.452 0 0 1-1.338 2.21c.098.38.147.777.147 1.19 0 1.283-.437 2.47-1.308 3.563-.872 1.092-2.06 1.955-3.567 2.588-1.506.634-3.143.95-4.91.95-1.768 0-3.403-.316-4.905-.95-1.502-.632-2.69-1.495-3.56-2.587-.872-1.092-1.308-2.28-1.308-3.562 0-.388.045-.777.135-1.166a2.47 2.47 0 0 1-1.006-.912c-.253-.4-.38-.842-.38-1.322 0-.678.237-1.26.712-1.744a2.334 2.334 0 0 1 1.73-.726c.697 0 1.29.26 1.78.782 1.785-1.258 3.893-1.928 6.324-2.01l1.424-6.467a.42.42 0 0 1 .184-.26.4.4 0 0 1 .32-.063l4.53 1.006c.147-.306.368-.553.662-.74a1.78 1.78 0 0 1 .97-.278c.508 0 .94.18 1.302.54.36.36.54.796.54 1.31 0 .512-.18.95-.54 1.315-.36.364-.794.546-1.302.546-.507 0-.94-.18-1.295-.54a1.793 1.793 0 0 1-.533-1.308l-4.1-.92-1.277 5.86c2.455.074 4.58.736 6.37 1.985a2.315 2.315 0 0 1 1.757-.757c.68 0 1.256.242 1.73.726.476.484.713 1.066.713 1.744zm-16.868 2.47c0 .513.178.95.534 1.315.356.365.787.547 1.295.547.508 0 .942-.182 1.302-.547.36-.364.54-.802.54-1.315 0-.513-.18-.95-.54-1.31-.36-.36-.794-.54-1.3-.54-.5 0-.93.183-1.29.547a1.79 1.79 0 0 0-.54 1.303zm9.944 4.406c.09-.09.135-.2.135-.323a.444.444 0 0 0-.44-.447c-.124 0-.23.042-.32.124-.336.348-.83.605-1.486.77a7.99 7.99 0 0 1-1.964.248 7.99 7.99 0 0 1-1.964-.248c-.655-.165-1.15-.422-1.486-.77a.456.456 0 0 0-.32-.124.414.414 0 0 0-.306.124.41.41 0 0 0-.135.317.45.45 0 0 0 .134.33c.352.355.837.636 1.455.843.617.207 1.118.33 1.503.366a11.6 11.6 0 0 0 1.117.056c.36 0 .733-.02 1.117-.056.385-.037.886-.16 1.504-.366.62-.207 1.104-.488 1.456-.844zm-.037-2.544c.507 0 .938-.182 1.294-.547.356-.364.534-.802.534-1.315 0-.505-.18-.94-.54-1.303a1.75 1.75 0 0 0-1.29-.546c-.506 0-.94.18-1.3.54-.36.36-.54.797-.54 1.31s.18.95.54 1.315c.36.365.794.547 1.3.547z\" fill-rule=\"evenodd\"></path></g></svg></span></a>, <a class=\"at-share-btn at-svc-email\" role=\"button\" tabindex=\"1\"><span class=\"at4-visually-hidden\">Share to Email</span><span class=\"at-icon-wrapper\" style=\"background-color: rgb(132, 132, 132);\"><svg aria-labelledby=\"at-svg-email-4\" class=\"at-icon at-icon-email\" role=\"img\" style=\"fill: rgb(255, 255, 255);\" version=\"1.1\" viewbox=\"0 0 32 32\" xmlns=\"http://www.w3.org/2000/svg\" xmlns:xlink=\"http://www.w3.org/1999/xlink\"><title id=\"at-svg-email-4\" xmlns=\"http://www.w3.org/1999/xhtml\">Email</title><g><g fill-rule=\"evenodd\"></g><path d=\"M27 22.757c0 1.24-.988 2.243-2.19 2.243H7.19C5.98 25 5 23.994 5 22.757V13.67c0-.556.39-.773.855-.496l8.78 5.238c.782.467 1.95.467 2.73 0l8.78-5.238c.472-.28.855-.063.855.495v9.087z\"></path><path d=\"M27 9.243C27 8.006 26.02 7 24.81 7H7.19C5.988 7 5 8.004 5 9.243v.465c0 .554.385 1.232.857 1.514l9.61 5.733c.267.16.8.16 1.067 0l9.61-5.733c.473-.283.856-.96.856-1.514v-.465z\"></path></g></svg></span></a>, <a class=\"at-share-btn at-svc-compact\" role=\"button\" tabindex=\"1\"><span class=\"at4-visually-hidden\">More AddThis Share options</span><span class=\"at-icon-wrapper\" style=\"background-color: rgb(255, 101, 80);\"><svg aria-labelledby=\"at-svg-addthis-5\" class=\"at-icon at-icon-addthis\" role=\"img\" style=\"fill: rgb(255, 255, 255);\" version=\"1.1\" viewbox=\"0 0 32 32\" xmlns=\"http://www.w3.org/2000/svg\" xmlns:xlink=\"http://www.w3.org/1999/xlink\"><title id=\"at-svg-addthis-5\" xmlns=\"http://www.w3.org/1999/xhtml\">AddThis</title><g><path d=\"M18 14V8h-4v6H8v4h6v6h4v-6h6v-4h-6z\" fill-rule=\"evenodd\"></path></g></svg></span></a>, <a id=\"at4-palogo\"><div><a class=\"at-branding-logo\" href=\"//www.addthis.com/website-tools/overview?utm_source=AddThis%20Tools&amp;utm_medium=image\" target=\"_blank\" title=\"Powered by AddThis\"><div class=\"at-branding-icon\"></div><span class=\"at-branding-addthis\">AddThis</span></a></div></a>, <a class=\"at-branding-logo\" href=\"//www.addthis.com/website-tools/overview?utm_source=AddThis%20Tools&amp;utm_medium=image\" target=\"_blank\" title=\"Powered by AddThis\"><div class=\"at-branding-icon\"></div><span class=\"at-branding-addthis\">AddThis</span></a>, <a class=\"at4-count\" href=\"#\" style=\"width: 16.6667%;\"><span class=\"at4-counter\"></span><span class=\"at4-share-label\">SHARES</span></a>, <a class=\"at-share-btn at-svc-facebook\" role=\"button\" style=\"width: 16.6667%;\" tabindex=\"1\" title=\"Facebook\"><span class=\"at-icon-wrapper\" style=\"background-color: rgb(59, 89, 152);\"><svg alt=\"Facebook\" aria-labelledby=\"at-svg-facebook-6\" class=\"at-icon at-icon-facebook\" role=\"img\" style=\"fill: rgb(255, 255, 255); width: 24px; height: 24px;\" title=\"Facebook\" version=\"1.1\" viewbox=\"0 0 32 32\" xmlns=\"http://www.w3.org/2000/svg\" xmlns:xlink=\"http://www.w3.org/1999/xlink\"><title id=\"at-svg-facebook-6\" xmlns=\"http://www.w3.org/1999/xhtml\">Facebook</title><g><path d=\"M22 5.16c-.406-.054-1.806-.16-3.43-.16-3.4 0-5.733 1.825-5.733 5.17v2.882H9v3.913h3.837V27h4.604V16.965h3.823l.587-3.913h-4.41v-2.5c0-1.123.347-1.903 2.198-1.903H22V5.16z\" fill-rule=\"evenodd\"></path></g></svg></span></a>, <a class=\"at-share-btn at-svc-twitter\" role=\"button\" style=\"width: 16.6667%;\" tabindex=\"1\" title=\"Twitter\"><span class=\"at-icon-wrapper\" style=\"background-color: rgb(29, 161, 242);\"><svg alt=\"Twitter\" aria-labelledby=\"at-svg-twitter-7\" class=\"at-icon at-icon-twitter\" role=\"img\" style=\"fill: rgb(255, 255, 255); width: 24px; height: 24px;\" title=\"Twitter\" version=\"1.1\" viewbox=\"0 0 32 32\" xmlns=\"http://www.w3.org/2000/svg\" xmlns:xlink=\"http://www.w3.org/1999/xlink\"><title id=\"at-svg-twitter-7\" xmlns=\"http://www.w3.org/1999/xhtml\">Twitter</title><g><path d=\"M27.996 10.116c-.81.36-1.68.602-2.592.71a4.526 4.526 0 0 0 1.984-2.496 9.037 9.037 0 0 1-2.866 1.095 4.513 4.513 0 0 0-7.69 4.116 12.81 12.81 0 0 1-9.3-4.715 4.49 4.49 0 0 0-.612 2.27 4.51 4.51 0 0 0 2.008 3.755 4.495 4.495 0 0 1-2.044-.564v.057a4.515 4.515 0 0 0 3.62 4.425 4.52 4.52 0 0 1-2.04.077 4.517 4.517 0 0 0 4.217 3.134 9.055 9.055 0 0 1-5.604 1.93A9.18 9.18 0 0 1 6 23.85a12.773 12.773 0 0 0 6.918 2.027c8.3 0 12.84-6.876 12.84-12.84 0-.195-.005-.39-.014-.583a9.172 9.172 0 0 0 2.252-2.336\" fill-rule=\"evenodd\"></path></g></svg></span></a>, <a class=\"at-share-btn at-svc-reddit\" role=\"button\" style=\"width: 16.6667%;\" tabindex=\"1\" title=\"Reddit\"><span class=\"at-icon-wrapper\" style=\"background-color: rgb(255, 87, 0);\"><svg alt=\"Reddit\" aria-labelledby=\"at-svg-reddit-8\" class=\"at-icon at-icon-reddit\" role=\"img\" style=\"fill: rgb(255, 255, 255); width: 24px; height: 24px;\" title=\"Reddit\" version=\"1.1\" viewbox=\"0 0 32 32\" xmlns=\"http://www.w3.org/2000/svg\" xmlns:xlink=\"http://www.w3.org/1999/xlink\"><title id=\"at-svg-reddit-8\" xmlns=\"http://www.w3.org/1999/xhtml\">Reddit</title><g><path d=\"M27 15.5a2.452 2.452 0 0 1-1.338 2.21c.098.38.147.777.147 1.19 0 1.283-.437 2.47-1.308 3.563-.872 1.092-2.06 1.955-3.567 2.588-1.506.634-3.143.95-4.91.95-1.768 0-3.403-.316-4.905-.95-1.502-.632-2.69-1.495-3.56-2.587-.872-1.092-1.308-2.28-1.308-3.562 0-.388.045-.777.135-1.166a2.47 2.47 0 0 1-1.006-.912c-.253-.4-.38-.842-.38-1.322 0-.678.237-1.26.712-1.744a2.334 2.334 0 0 1 1.73-.726c.697 0 1.29.26 1.78.782 1.785-1.258 3.893-1.928 6.324-2.01l1.424-6.467a.42.42 0 0 1 .184-.26.4.4 0 0 1 .32-.063l4.53 1.006c.147-.306.368-.553.662-.74a1.78 1.78 0 0 1 .97-.278c.508 0 .94.18 1.302.54.36.36.54.796.54 1.31 0 .512-.18.95-.54 1.315-.36.364-.794.546-1.302.546-.507 0-.94-.18-1.295-.54a1.793 1.793 0 0 1-.533-1.308l-4.1-.92-1.277 5.86c2.455.074 4.58.736 6.37 1.985a2.315 2.315 0 0 1 1.757-.757c.68 0 1.256.242 1.73.726.476.484.713 1.066.713 1.744zm-16.868 2.47c0 .513.178.95.534 1.315.356.365.787.547 1.295.547.508 0 .942-.182 1.302-.547.36-.364.54-.802.54-1.315 0-.513-.18-.95-.54-1.31-.36-.36-.794-.54-1.3-.54-.5 0-.93.183-1.29.547a1.79 1.79 0 0 0-.54 1.303zm9.944 4.406c.09-.09.135-.2.135-.323a.444.444 0 0 0-.44-.447c-.124 0-.23.042-.32.124-.336.348-.83.605-1.486.77a7.99 7.99 0 0 1-1.964.248 7.99 7.99 0 0 1-1.964-.248c-.655-.165-1.15-.422-1.486-.77a.456.456 0 0 0-.32-.124.414.414 0 0 0-.306.124.41.41 0 0 0-.135.317.45.45 0 0 0 .134.33c.352.355.837.636 1.455.843.617.207 1.118.33 1.503.366a11.6 11.6 0 0 0 1.117.056c.36 0 .733-.02 1.117-.056.385-.037.886-.16 1.504-.366.62-.207 1.104-.488 1.456-.844zm-.037-2.544c.507 0 .938-.182 1.294-.547.356-.364.534-.802.534-1.315 0-.505-.18-.94-.54-1.303a1.75 1.75 0 0 0-1.29-.546c-.506 0-.94.18-1.3.54-.36.36-.54.797-.54 1.31s.18.95.54 1.315c.36.365.794.547 1.3.547z\" fill-rule=\"evenodd\"></path></g></svg></span></a>, <a class=\"at-share-btn at-svc-email\" role=\"button\" style=\"width: 16.6667%;\" tabindex=\"1\" title=\"Email\"><span class=\"at-icon-wrapper\" style=\"background-color: rgb(132, 132, 132);\"><svg alt=\"Email\" aria-labelledby=\"at-svg-email-9\" class=\"at-icon at-icon-email\" role=\"img\" style=\"fill: rgb(255, 255, 255); width: 24px; height: 24px;\" title=\"Email\" version=\"1.1\" viewbox=\"0 0 32 32\" xmlns=\"http://www.w3.org/2000/svg\" xmlns:xlink=\"http://www.w3.org/1999/xlink\"><title id=\"at-svg-email-9\" xmlns=\"http://www.w3.org/1999/xhtml\">Email</title><g><g fill-rule=\"evenodd\"></g><path d=\"M27 22.757c0 1.24-.988 2.243-2.19 2.243H7.19C5.98 25 5 23.994 5 22.757V13.67c0-.556.39-.773.855-.496l8.78 5.238c.782.467 1.95.467 2.73 0l8.78-5.238c.472-.28.855-.063.855.495v9.087z\"></path><path d=\"M27 9.243C27 8.006 26.02 7 24.81 7H7.19C5.988 7 5 8.004 5 9.243v.465c0 .554.385 1.232.857 1.514l9.61 5.733c.267.16.8.16 1.067 0l9.61-5.733c.473-.283.856-.96.856-1.514v-.465z\"></path></g></svg></span></a>, <a class=\"at-share-btn at-svc-compact\" role=\"button\" style=\"width: 16.6667%;\" tabindex=\"1\" title=\"More\"><span class=\"at-icon-wrapper\" style=\"background-color: rgb(255, 101, 80);\"><svg alt=\"More\" aria-labelledby=\"at-svg-addthis-10\" class=\"at-icon at-icon-addthis\" role=\"img\" style=\"fill: rgb(255, 255, 255); width: 24px; height: 24px;\" title=\"More\" version=\"1.1\" viewbox=\"0 0 32 32\" xmlns=\"http://www.w3.org/2000/svg\" xmlns:xlink=\"http://www.w3.org/1999/xlink\"><title id=\"at-svg-addthis-10\" xmlns=\"http://www.w3.org/1999/xhtml\">AddThis</title><g><path d=\"M18 14V8h-4v6H8v4h6v6h4v-6h6v-4h-6z\" fill-rule=\"evenodd\"></path></g></svg></span></a>]]\n"
     ]
    }
   ],
   "source": [
    "print(headlines)"
   ]
  },
  {
   "cell_type": "code",
   "execution_count": 53,
   "metadata": {},
   "outputs": [
    {
     "name": "stdout",
     "output_type": "stream",
     "text": [
      "\n",
      "\n",
      "NASA Finds Ancient Organic Material, Mysterious Methane on Mars\n",
      "\n",
      "\n"
     ]
    }
   ],
   "source": [
    "#two variables created storing the latest title and the text for the latest title\n",
    "\n",
    "\n",
    "Latest_titles = soup.find(\"div\", class_=\"content_title\").text\n",
    "\n",
    "print(Latest_titles)"
   ]
  },
  {
   "cell_type": "code",
   "execution_count": 59,
   "metadata": {},
   "outputs": [],
   "source": [
    "Latest_titles_text = soup.body.find(class_='article_teaser_body')"
   ]
  },
  {
   "cell_type": "code",
   "execution_count": 61,
   "metadata": {},
   "outputs": [
    {
     "name": "stdout",
     "output_type": "stream",
     "text": [
      "None\n"
     ]
    }
   ],
   "source": [
    "print(Latest_titles_text)"
   ]
  },
  {
   "cell_type": "markdown",
   "metadata": {},
   "source": [
    "# splinter - pull jpg image "
   ]
  },
  {
   "cell_type": "code",
   "execution_count": 45,
   "metadata": {},
   "outputs": [],
   "source": [
    "executable_path = {'executable_path': '/usr/local/bin/chromedriver'}\n",
    "browser = Browser('chrome', **executable_path, headless=False)"
   ]
  },
  {
   "cell_type": "code",
   "execution_count": 17,
   "metadata": {},
   "outputs": [],
   "source": [
    "url2 = 'https://www.jpl.nasa.gov/spaceimages/?search=&category=Mars'\n",
    "browser.visit(url2)"
   ]
  },
  {
   "cell_type": "code",
   "execution_count": null,
   "metadata": {},
   "outputs": [],
   "source": []
  },
  {
   "cell_type": "code",
   "execution_count": null,
   "metadata": {},
   "outputs": [],
   "source": []
  },
  {
   "cell_type": "code",
   "execution_count": 20,
   "metadata": {},
   "outputs": [],
   "source": [
    "browser.click_link_by_id('full_image')"
   ]
  },
  {
   "cell_type": "code",
   "execution_count": 22,
   "metadata": {},
   "outputs": [],
   "source": [
    "pic_url = browser.html"
   ]
  },
  {
   "cell_type": "code",
   "execution_count": 24,
   "metadata": {},
   "outputs": [],
   "source": [
    "soup2 = bs(pic_url, \"html.parser\")"
   ]
  },
  {
   "cell_type": "code",
   "execution_count": 28,
   "metadata": {},
   "outputs": [],
   "source": [
    "boomerang = soup2.body.find(class_=\"fancybox-image\")"
   ]
  },
  {
   "cell_type": "code",
   "execution_count": 116,
   "metadata": {},
   "outputs": [
    {
     "name": "stdout",
     "output_type": "stream",
     "text": [
      "<img class=\"fancybox-image\" src=\"/spaceimages/images/mediumsize/PIA17551_ip.jpg\" style=\"display: inline;\"/>\n"
     ]
    }
   ],
   "source": [
    "print(boomerang)"
   ]
  },
  {
   "cell_type": "code",
   "execution_count": 119,
   "metadata": {},
   "outputs": [],
   "source": [
    "boomerang1 = boomerang.attrs['src']"
   ]
  },
  {
   "cell_type": "code",
   "execution_count": 120,
   "metadata": {},
   "outputs": [
    {
     "name": "stdout",
     "output_type": "stream",
     "text": [
      "/spaceimages/images/mediumsize/PIA17551_ip.jpg\n"
     ]
    }
   ],
   "source": [
    "print(boomerang1)"
   ]
  },
  {
   "cell_type": "markdown",
   "metadata": {},
   "source": [
    "# pull twitter weather data\n"
   ]
  },
  {
   "cell_type": "code",
   "execution_count": 35,
   "metadata": {},
   "outputs": [
    {
     "name": "stdout",
     "output_type": "stream",
     "text": [
      "434396\n"
     ]
    }
   ],
   "source": [
    "url3 = 'https://twitter.com/marswxreport?lang=en'\n",
    "browser.visit(url3)\n",
    "html3 = browser.html\n",
    "\n",
    "soup3 = bs(html3, \"html.parser\")\n",
    "\n",
    "print(len(html3))"
   ]
  },
  {
   "cell_type": "code",
   "execution_count": 40,
   "metadata": {},
   "outputs": [],
   "source": [
    "weath_tweet = soup3.body.find(class_=\"js-tweet-text-container\").text"
   ]
  },
  {
   "cell_type": "code",
   "execution_count": 41,
   "metadata": {},
   "outputs": [
    {
     "name": "stdout",
     "output_type": "stream",
     "text": [
      "\n",
      "Sol 2319 (2019-02-13), high -17C/1F, low -72C/-97F, pressure at 8.12 hPa, daylight 06:46-18:52pic.twitter.com/anlHR95BMs\n",
      "\n"
     ]
    }
   ],
   "source": [
    "print(weath_tweet)"
   ]
  },
  {
   "cell_type": "markdown",
   "metadata": {},
   "source": [
    "# mars facts\n"
   ]
  },
  {
   "cell_type": "code",
   "execution_count": 47,
   "metadata": {},
   "outputs": [],
   "source": [
    "url4 = 'https://space-facts.com/mars/'\n",
    "browser.visit(url4)\n",
    "html4 = browser.visit(url4)\n",
    "html4 = browser.html\n",
    "soup4 = bs(html4, 'html.parser')\n"
   ]
  },
  {
   "cell_type": "code",
   "execution_count": 51,
   "metadata": {},
   "outputs": [],
   "source": [
    "facts = soup4.body.find(id='tablepress-mars').text"
   ]
  },
  {
   "cell_type": "code",
   "execution_count": 52,
   "metadata": {},
   "outputs": [
    {
     "name": "stdout",
     "output_type": "stream",
     "text": [
      "\n",
      "\n",
      "\n",
      "Equatorial Diameter:6,792 km\n",
      "\n",
      "\n",
      "\n",
      "Polar Diameter:6,752 km\n",
      "\n",
      "\n",
      "\n",
      "Mass:6.42 x 10^23 kg (10.7% Earth)\n",
      "\n",
      "\n",
      "Moons:2 (Phobos & Deimos)\n",
      "\n",
      "\n",
      "Orbit Distance:227,943,824 km (1.52 AU)\n",
      "\n",
      "\n",
      "Orbit Period:687 days (1.9 years)\n",
      "\n",
      "\n",
      "\n",
      "Surface Temperature: -153 to 20 °C\n",
      "\n",
      "\n",
      "First Record:2nd millennium BC\n",
      "\n",
      "\n",
      "Recorded By:Egyptian astronomers\n",
      "\n",
      "\n",
      "\n"
     ]
    }
   ],
   "source": [
    "print(facts)"
   ]
  },
  {
   "cell_type": "markdown",
   "metadata": {},
   "source": [
    "# hemispheres"
   ]
  },
  {
   "cell_type": "markdown",
   "metadata": {},
   "source": [
    "#hemi1"
   ]
  },
  {
   "cell_type": "code",
   "execution_count": 65,
   "metadata": {},
   "outputs": [],
   "source": [
    "url5 ='https://astrogeology.usgs.gov/search/results?q=hemisphere+enhanced&k1=target&v1=Mars'\n",
    "browser.visit(url5)\n",
    "html5 = browser.visit(url5)\n",
    "html5 = browser.html\n",
    "soup5 = bs(html5, 'html.parser')\n"
   ]
  },
  {
   "cell_type": "code",
   "execution_count": null,
   "metadata": {},
   "outputs": [],
   "source": []
  },
  {
   "cell_type": "code",
   "execution_count": 69,
   "metadata": {},
   "outputs": [],
   "source": [
    "browser.click_link_by_partial_text('Cerberus')"
   ]
  },
  {
   "cell_type": "code",
   "execution_count": 73,
   "metadata": {},
   "outputs": [],
   "source": [
    "pic_url5 = browser.html"
   ]
  },
  {
   "cell_type": "code",
   "execution_count": 74,
   "metadata": {},
   "outputs": [],
   "source": [
    "soup_pic = bs(pic_url5, \"html.parser\")"
   ]
  },
  {
   "cell_type": "code",
   "execution_count": 86,
   "metadata": {},
   "outputs": [],
   "source": [
    "hemi1 = soup_pic.find('div', class_ = 'downloads')"
   ]
  },
  {
   "cell_type": "code",
   "execution_count": 87,
   "metadata": {},
   "outputs": [
    {
     "name": "stdout",
     "output_type": "stream",
     "text": [
      "<div class=\"downloads\">\n",
      "<img class=\"thumb\" src=\"/cache/images/dfaf3849e74bf973b59eb50dab52b583_cerberus_enhanced.tif_thumb.png\"/>\n",
      "<h3>Download</h3>\n",
      "<ul>\n",
      "<li><a href=\"http://astropedia.astrogeology.usgs.gov/download/Mars/Viking/cerberus_enhanced.tif/full.jpg\" target=\"_blank\">Sample</a> (jpg) 1024px wide</li>\n",
      "<li><a href=\"http://astropedia.astrogeology.usgs.gov/download/Mars/Viking/cerberus_enhanced.tif\" target=\"_blank\">Original</a> (tif<span class=\"tooltip word-tif\" title=\"\"></span>) 21 MB</li>\n",
      "</ul>\n",
      "</div>\n"
     ]
    }
   ],
   "source": [
    "print(hemi1)"
   ]
  },
  {
   "cell_type": "code",
   "execution_count": 104,
   "metadata": {},
   "outputs": [],
   "source": [
    "hemi1a = hemi1.find('a').attrs['href']"
   ]
  },
  {
   "cell_type": "code",
   "execution_count": 105,
   "metadata": {},
   "outputs": [
    {
     "name": "stdout",
     "output_type": "stream",
     "text": [
      "http://astropedia.astrogeology.usgs.gov/download/Mars/Viking/cerberus_enhanced.tif/full.jpg\n"
     ]
    }
   ],
   "source": [
    "print(hemi1a)"
   ]
  },
  {
   "cell_type": "markdown",
   "metadata": {},
   "source": [
    "#hemi2"
   ]
  },
  {
   "cell_type": "code",
   "execution_count": 121,
   "metadata": {},
   "outputs": [],
   "source": [
    "browser.click_link_by_partial_text('Schiaparelli')"
   ]
  },
  {
   "cell_type": "code",
   "execution_count": 122,
   "metadata": {},
   "outputs": [],
   "source": [
    "pic_url5b = browser.html"
   ]
  },
  {
   "cell_type": "code",
   "execution_count": 131,
   "metadata": {},
   "outputs": [],
   "source": [
    "soup_picB = bs(pic_url5b, \"html.parser\")"
   ]
  },
  {
   "cell_type": "code",
   "execution_count": 132,
   "metadata": {},
   "outputs": [],
   "source": [
    "hemi2 = soup_picB.find('div', class_ = 'downloads')"
   ]
  },
  {
   "cell_type": "code",
   "execution_count": 133,
   "metadata": {},
   "outputs": [],
   "source": [
    "hemi2a = hemi2.find('a').attrs['href']"
   ]
  },
  {
   "cell_type": "code",
   "execution_count": 134,
   "metadata": {},
   "outputs": [
    {
     "name": "stdout",
     "output_type": "stream",
     "text": [
      "http://astropedia.astrogeology.usgs.gov/download/Mars/Viking/schiaparelli_enhanced.tif/full.jpg\n"
     ]
    }
   ],
   "source": [
    "print(hemi2a)"
   ]
  },
  {
   "cell_type": "markdown",
   "metadata": {},
   "source": [
    "#hemi3"
   ]
  },
  {
   "cell_type": "code",
   "execution_count": 135,
   "metadata": {},
   "outputs": [],
   "source": [
    "browser.click_link_by_partial_text('Syrtis')"
   ]
  },
  {
   "cell_type": "code",
   "execution_count": 138,
   "metadata": {},
   "outputs": [],
   "source": [
    "pic_url5c = browser.html"
   ]
  },
  {
   "cell_type": "code",
   "execution_count": 140,
   "metadata": {},
   "outputs": [],
   "source": [
    "soup_picC = bs(pic_url5c, 'html.parser')"
   ]
  },
  {
   "cell_type": "code",
   "execution_count": 141,
   "metadata": {},
   "outputs": [],
   "source": [
    "hemi3 = soup_picC.find('div', class_ = 'downloads')"
   ]
  },
  {
   "cell_type": "code",
   "execution_count": 142,
   "metadata": {},
   "outputs": [],
   "source": [
    "hemi3a = hemi3.find('a').attrs['href']"
   ]
  },
  {
   "cell_type": "code",
   "execution_count": 143,
   "metadata": {},
   "outputs": [
    {
     "name": "stdout",
     "output_type": "stream",
     "text": [
      "http://astropedia.astrogeology.usgs.gov/download/Mars/Viking/syrtis_major_enhanced.tif/full.jpg\n"
     ]
    }
   ],
   "source": [
    "print(hemi3a)"
   ]
  },
  {
   "cell_type": "markdown",
   "metadata": {},
   "source": [
    "#hemi4"
   ]
  },
  {
   "cell_type": "code",
   "execution_count": 144,
   "metadata": {},
   "outputs": [],
   "source": [
    "browser.click_link_by_partial_text('Valles')"
   ]
  },
  {
   "cell_type": "code",
   "execution_count": 145,
   "metadata": {},
   "outputs": [],
   "source": [
    "pic_url5d = browser.html"
   ]
  },
  {
   "cell_type": "code",
   "execution_count": 146,
   "metadata": {},
   "outputs": [],
   "source": [
    "soup_picd = bs(pic_url5d, 'html.parser')"
   ]
  },
  {
   "cell_type": "code",
   "execution_count": 147,
   "metadata": {},
   "outputs": [],
   "source": [
    "hemi4 = soup_picd.find('div', class_ = 'downloads')"
   ]
  },
  {
   "cell_type": "code",
   "execution_count": 148,
   "metadata": {},
   "outputs": [],
   "source": [
    "hemi4a = hemi4.find('a').attrs['href']"
   ]
  },
  {
   "cell_type": "code",
   "execution_count": 149,
   "metadata": {},
   "outputs": [
    {
     "name": "stdout",
     "output_type": "stream",
     "text": [
      "http://astropedia.astrogeology.usgs.gov/download/Mars/Viking/valles_marineris_enhanced.tif/full.jpg\n"
     ]
    }
   ],
   "source": [
    "print(hemi4a)"
   ]
  },
  {
   "cell_type": "code",
   "execution_count": null,
   "metadata": {},
   "outputs": [],
   "source": []
  }
 ],
 "metadata": {
  "kernelspec": {
   "display_name": "Python 3",
   "language": "python",
   "name": "python3"
  },
  "language_info": {
   "codemirror_mode": {
    "name": "ipython",
    "version": 3
   },
   "file_extension": ".py",
   "mimetype": "text/x-python",
   "name": "python",
   "nbconvert_exporter": "python",
   "pygments_lexer": "ipython3",
   "version": "3.6.5"
  }
 },
 "nbformat": 4,
 "nbformat_minor": 2
}
